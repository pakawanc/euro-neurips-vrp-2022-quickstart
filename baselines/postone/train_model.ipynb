{
 "cells": [
  {
   "cell_type": "code",
   "execution_count": 1,
   "id": "c1df7a2e",
   "metadata": {},
   "outputs": [],
   "source": [
    "import pandas as pd\n",
    "import numpy as np\n",
    "import os\n",
    "\n",
    "from sklearn.model_selection import train_test_split, GridSearchCV\n",
    "from sklearn.pipeline import Pipeline\n",
    "from sklearn.preprocessing import StandardScaler, OneHotEncoder\n",
    "from sklearn_pandas import DataFrameMapper\n",
    "from sklearn.linear_model import LogisticRegression\n",
    "from sklearn.metrics import roc_auc_score,accuracy_score\n",
    "\n",
    "import seaborn as sns\n",
    "import pickle"
   ]
  },
  {
   "cell_type": "code",
   "execution_count": 2,
   "id": "c4cb5a5c",
   "metadata": {},
   "outputs": [],
   "source": [
    "data_dir = '/Users/pakawanc/OneDrive - Chulalongkorn University/Project/VR/euro-neurips-vrp-2022-quickstart/misc'\n",
    "model_dir = '/Users/pakawanc/Library/CloudStorage/OneDrive-ChulalongkornUniversity/Project/VR/euro-neurips-vrp-2022-quickstart/baselines/postone/pretrained'\n",
    "BIGINT = 1e9"
   ]
  },
  {
   "cell_type": "code",
   "execution_count": 3,
   "id": "597da181",
   "metadata": {},
   "outputs": [],
   "source": [
    "# list_path = [file for file in os.listdir(data_dir) if 'data_collectpostone_' in file]\n",
    "# list_dat = []\n",
    "# for path in list_path:\n",
    "#     temp = pd.read_csv(os.path.join(data_dir,path))\n",
    "#     list_dat.append(temp)\n",
    "# df_postone = pd.concat(list_dat,axis=0)\n",
    "# df_postone.to_csv(os.path.join(data_dir,'data_collectpostone.csv'),index=False)"
   ]
  },
  {
   "cell_type": "code",
   "execution_count": 4,
   "id": "90cc98d3",
   "metadata": {},
   "outputs": [
    {
     "name": "stdout",
     "output_type": "stream",
     "text": [
      "len df_greedy :  500\n",
      "len df_postone :  35000\n"
     ]
    }
   ],
   "source": [
    "df_greedy = pd.read_csv(os.path.join(data_dir,'data_greedy.csv'))\n",
    "df_postone = pd.read_csv(os.path.join(data_dir,'data_collectpostone.csv'))\n",
    "\n",
    "print('len df_greedy : ',len(df_greedy))\n",
    "print('len df_postone : ',len(df_postone))"
   ]
  },
  {
   "cell_type": "code",
   "execution_count": 5,
   "id": "7c47c562",
   "metadata": {},
   "outputs": [
    {
     "name": "stdout",
     "output_type": "stream",
     "text": [
      "len df :  35000\n"
     ]
    }
   ],
   "source": [
    "raw_df = df_postone.merge(df_greedy.rename(columns={'cost':'cost_greedy'}) \\\n",
    "                              .drop(['postpone_epoch','postpone_seed'],axis=1),\n",
    "                        on=['instance_seed','instance'], how='inner')\n",
    "\n",
    "# print(raw_df[raw_df.cost_greedy.isna()][['instance','instance_seed']])\n",
    "print('len df : ',len(raw_df))\n",
    "assert len(raw_df)==len(df_postone), f'Size of df {len(raw_df)} != df_postone {len(df_postone)}'"
   ]
  },
  {
   "cell_type": "markdown",
   "id": "460ae258",
   "metadata": {},
   "source": [
    "### Feature Engineering"
   ]
  },
  {
   "cell_type": "code",
   "execution_count": 6,
   "id": "7c1bdeec",
   "metadata": {},
   "outputs": [],
   "source": [
    "# Filter last epoch data\n",
    "df = raw_df[raw_df['avg_dur_with_must_dispatch'].notna()].reset_index()"
   ]
  },
  {
   "cell_type": "code",
   "execution_count": 7,
   "id": "4e63c144",
   "metadata": {},
   "outputs": [],
   "source": [
    "df[['cost','cost_greedy']] = df[['cost','cost_greedy']].astype('int')\n",
    "\n",
    "df['diff_cost'] = df['cost']-df['cost_greedy']\n",
    "df['label'] = np.where(df['diff_cost'] < 0, 1, 0)"
   ]
  },
  {
   "cell_type": "code",
   "execution_count": 8,
   "id": "d1d1b271",
   "metadata": {},
   "outputs": [],
   "source": [
    "# col_rank = [col for col in df.columns if 'rank_duration' in col]\n",
    "# col_is_null = [f'is_rank_null_{i+1}' for i in range(len(col_rank))]\n",
    "\n",
    "# tmp = df[col_rank].apply(lambda x: (x==1e9).astype('int')).rename(columns={k:v for k,v in zip(col_rank,col_is_null)})\n",
    "# df = pd.concat([df,tmp],axis=1)\n",
    "df = df.drop(['index','cost','instance_seed','instance',\n",
    "               'postpone_epoch','postpone_seed','cost_greedy','diff_cost'],axis=1)"
   ]
  },
  {
   "cell_type": "code",
   "execution_count": 9,
   "id": "41d9ffba",
   "metadata": {},
   "outputs": [
    {
     "data": {
      "text/plain": [
       "(27130, 108)"
      ]
     },
     "execution_count": 9,
     "metadata": {},
     "output_type": "execute_result"
    }
   ],
   "source": [
    "df.shape\n",
    "# should be (xx, 108) features=107, label=1"
   ]
  },
  {
   "cell_type": "code",
   "execution_count": 10,
   "id": "e01845fc",
   "metadata": {},
   "outputs": [
    {
     "data": {
      "text/plain": [
       "1    0.571766\n",
       "0    0.428234\n",
       "Name: label, dtype: float64"
      ]
     },
     "execution_count": 10,
     "metadata": {},
     "output_type": "execute_result"
    }
   ],
   "source": [
    "df.label.value_counts(normalize=True)"
   ]
  },
  {
   "cell_type": "code",
   "execution_count": 11,
   "id": "2078fdac",
   "metadata": {},
   "outputs": [],
   "source": [
    "y = df.label\n",
    "X = df.drop('label', axis=1)\n",
    "X_train, X_test, y_train, y_test = train_test_split(X, y, \n",
    "                                                    test_size=0.2, \n",
    "                                                    random_state=123, \n",
    "                                                    stratify=y)"
   ]
  },
  {
   "cell_type": "markdown",
   "id": "de5cb685",
   "metadata": {},
   "source": [
    "### Preprocess features"
   ]
  },
  {
   "cell_type": "code",
   "execution_count": 12,
   "id": "ab6097f3",
   "metadata": {},
   "outputs": [],
   "source": [
    "nominal_col = [c for c in X.columns if 'is_rank_null' in c]\n",
    "num_col = list(set(X.columns)-set(nominal_col))"
   ]
  },
  {
   "cell_type": "code",
   "execution_count": 13,
   "id": "709605a5",
   "metadata": {},
   "outputs": [
    {
     "name": "stdout",
     "output_type": "stream",
     "text": [
      "[]\n",
      "all features :  107\n",
      "nominal features :  0\n",
      "num features :  107\n"
     ]
    }
   ],
   "source": [
    "print(nominal_col)\n",
    "print('all features : ',len(X.columns))\n",
    "print('nominal features : ',len(nominal_col))\n",
    "print('num features : ',len(num_col))"
   ]
  },
  {
   "cell_type": "code",
   "execution_count": 14,
   "id": "005aa3dd",
   "metadata": {},
   "outputs": [],
   "source": [
    "mapper = DataFrameMapper([([c], StandardScaler()) for c in num_col] +\n",
    "                         [([c], OneHotEncoder(sparse=False,drop='first')) for c in nominal_col],\n",
    "                         df_out=False)"
   ]
  },
  {
   "cell_type": "markdown",
   "id": "8c605eab",
   "metadata": {},
   "source": [
    "### Modeling"
   ]
  },
  {
   "cell_type": "code",
   "execution_count": 15,
   "id": "deb72195",
   "metadata": {},
   "outputs": [],
   "source": [
    "models = [\n",
    "           {'name': 'logisticregression',\n",
    "           'model': LogisticRegression(),\n",
    "           'param_grid': {\n",
    "                    'logisticregression__C': [0.01,0.1,0.5,1,5,10,100],\n",
    "                    'logisticregression__penalty': ['l1'],\n",
    "                    'logisticregression__solver': ['saga']\n",
    "                } \n",
    "            },\n",
    "          ]"
   ]
  },
  {
   "cell_type": "code",
   "execution_count": 16,
   "id": "7723a3e3",
   "metadata": {},
   "outputs": [],
   "source": [
    "def tune_models_hyperparams(X, y, models, **common_grid_kwargs):\n",
    "    grids = {}\n",
    "    for model in models:\n",
    "        print('{:-^70}'.format(' [' + model['name'] + '] '))\n",
    "        \n",
    "        pipe = None\n",
    "        \n",
    "        # Check whether model is LR\n",
    "        if model['name'] != 'logisticregression':\n",
    "            # If not LR -> do feature selection first\n",
    "            pipe = Pipeline([(\"mapper\", mapper),\n",
    "                             ('rfe', RFE(estimator=model['model'])),\n",
    "                             (model['name'], model['model'])])\n",
    "        else:\n",
    "            # If LR -> no need (feature selection implemented by regularization)\n",
    "            pipe = Pipeline([(\"mapper\", mapper),\n",
    "                             (model['name'], model['model'])])\n",
    "        \n",
    "        grids[model['name']] = (GridSearchCV(pipe,\n",
    "                                             param_grid=model['param_grid'],\n",
    "                                             **common_grid_kwargs)\n",
    "                                    .fit(X, y))\n",
    "\n",
    "    return grids\n",
    "\n",
    "def print_grid_results(grids):\n",
    "    for name, model in grids.items():\n",
    "        print('{:-^70}'.format(' [' + name + '] '))\n",
    "        print('Score:\\t\\t{:.2%}'.format(model.best_score_))\n",
    "        print('Parameters:\\t{}'.format(model.best_params_))\n",
    "        print('*' * 70)"
   ]
  },
  {
   "cell_type": "code",
   "execution_count": 17,
   "id": "926a46a1",
   "metadata": {
    "scrolled": false
   },
   "outputs": [
    {
     "name": "stdout",
     "output_type": "stream",
     "text": [
      "------------------------ [logisticregression] ------------------------\n",
      "Fitting 5 folds for each of 7 candidates, totalling 35 fits\n",
      "------------------------ [logisticregression] ------------------------\n",
      "Score:\t\t69.48%\n",
      "Parameters:\t{'logisticregression__C': 1, 'logisticregression__penalty': 'l1', 'logisticregression__solver': 'saga'}\n",
      "**********************************************************************\n"
     ]
    },
    {
     "name": "stderr",
     "output_type": "stream",
     "text": [
      "/Users/pakawanc/opt/anaconda3/lib/python3.8/site-packages/sklearn/linear_model/_sag.py:352: ConvergenceWarning: The max_iter was reached which means the coef_ did not converge\n",
      "  warnings.warn(\n"
     ]
    }
   ],
   "source": [
    "# Training\n",
    "grid = tune_models_hyperparams(X_train, y_train, models, verbose=1, n_jobs=-1,\n",
    "                               scoring='roc_auc', cv=5, return_train_score=True)\n",
    "\n",
    "print_grid_results(grid)"
   ]
  },
  {
   "cell_type": "markdown",
   "id": "555fa1a9",
   "metadata": {},
   "source": [
    "### Model Evaluation"
   ]
  },
  {
   "cell_type": "code",
   "execution_count": 18,
   "id": "3c357070",
   "metadata": {},
   "outputs": [],
   "source": [
    "def test_dataset(grid, X_test, y_test, cutoff=0.5):\n",
    "    y_pred = {}\n",
    "    res = {}\n",
    "    for name, model in grid.items():\n",
    "        y_pred[name] = (model.predict_proba(X_test)[:,1] >= cutoff).astype(int)\n",
    "        res[name] = {'AUC' : round(roc_auc_score(y_test, y_pred[name]), 5),\n",
    "                     'Accuracy' : round(accuracy_score(y_test, y_pred[name]), 5)} \n",
    "    \n",
    "    return res, y_pred"
   ]
  },
  {
   "cell_type": "code",
   "execution_count": 19,
   "id": "ad7e674b",
   "metadata": {},
   "outputs": [
    {
     "data": {
      "text/html": [
       "<div>\n",
       "<style scoped>\n",
       "    .dataframe tbody tr th:only-of-type {\n",
       "        vertical-align: middle;\n",
       "    }\n",
       "\n",
       "    .dataframe tbody tr th {\n",
       "        vertical-align: top;\n",
       "    }\n",
       "\n",
       "    .dataframe thead th {\n",
       "        text-align: right;\n",
       "    }\n",
       "</style>\n",
       "<table border=\"1\" class=\"dataframe\">\n",
       "  <thead>\n",
       "    <tr style=\"text-align: right;\">\n",
       "      <th></th>\n",
       "      <th>AUC</th>\n",
       "      <th>Accuracy</th>\n",
       "    </tr>\n",
       "  </thead>\n",
       "  <tbody>\n",
       "    <tr>\n",
       "      <th>logisticregression</th>\n",
       "      <td>0.66183</td>\n",
       "      <td>0.69047</td>\n",
       "    </tr>\n",
       "  </tbody>\n",
       "</table>\n",
       "</div>"
      ],
      "text/plain": [
       "                        AUC  Accuracy\n",
       "logisticregression  0.66183   0.69047"
      ]
     },
     "execution_count": 19,
     "metadata": {},
     "output_type": "execute_result"
    }
   ],
   "source": [
    "# Predict with train set\n",
    "result_train,_ = test_dataset(grid, X_train, y_train, cutoff=0.5)\n",
    "pd.DataFrame(result_train).T"
   ]
  },
  {
   "cell_type": "code",
   "execution_count": 20,
   "id": "6b675285",
   "metadata": {},
   "outputs": [
    {
     "data": {
      "text/html": [
       "<div>\n",
       "<style scoped>\n",
       "    .dataframe tbody tr th:only-of-type {\n",
       "        vertical-align: middle;\n",
       "    }\n",
       "\n",
       "    .dataframe tbody tr th {\n",
       "        vertical-align: top;\n",
       "    }\n",
       "\n",
       "    .dataframe thead th {\n",
       "        text-align: right;\n",
       "    }\n",
       "</style>\n",
       "<table border=\"1\" class=\"dataframe\">\n",
       "  <thead>\n",
       "    <tr style=\"text-align: right;\">\n",
       "      <th></th>\n",
       "      <th>AUC</th>\n",
       "      <th>Accuracy</th>\n",
       "    </tr>\n",
       "  </thead>\n",
       "  <tbody>\n",
       "    <tr>\n",
       "      <th>logisticregression</th>\n",
       "      <td>0.65983</td>\n",
       "      <td>0.68725</td>\n",
       "    </tr>\n",
       "  </tbody>\n",
       "</table>\n",
       "</div>"
      ],
      "text/plain": [
       "                        AUC  Accuracy\n",
       "logisticregression  0.65983   0.68725"
      ]
     },
     "execution_count": 20,
     "metadata": {},
     "output_type": "execute_result"
    }
   ],
   "source": [
    "# Predict with test set\n",
    "result,_ = test_dataset(grid, X_test, y_test, cutoff=0.5)\n",
    "pd.DataFrame(result).T"
   ]
  },
  {
   "cell_type": "code",
   "execution_count": 21,
   "id": "a5a3f9bb",
   "metadata": {},
   "outputs": [],
   "source": [
    "mod = grid['logisticregression']\n",
    "\n",
    "pickle.dump(mod,open(os.path.join(model_dir,'model.pth'),'wb'))"
   ]
  },
  {
   "cell_type": "markdown",
   "id": "a3909acc",
   "metadata": {},
   "source": [
    "### Interpretation"
   ]
  },
  {
   "cell_type": "code",
   "execution_count": 22,
   "id": "3409f5ab",
   "metadata": {},
   "outputs": [
    {
     "name": "stdout",
     "output_type": "stream",
     "text": [
      "logisticregression features : \n",
      "['rank_duration_49' 'rank_duration_48' 'rank_duration_78'\n",
      " 'rank_duration_45' 'rank_duration_17' 'rank_duration_1'\n",
      " 'rank_duration_84' 'rank_duration_2' 'rank_duration_22'\n",
      " 'rank_duration_53' 'rank_duration_54' 'rank_duration_91'\n",
      " 'rank_duration_63' 'rank_duration_15' 'rank_duration_82'\n",
      " 'rank_duration_75' 'rank_duration_73' 'rank_duration_60'\n",
      " 'rank_duration_16' 'rank_duration_42' 'rank_duration_59'\n",
      " 'rank_duration_8' 'rank_duration_3' 'rank_duration_88'\n",
      " 'min_dur_with_must_dispatch' 'rank_duration_74' 'rank_duration_80'\n",
      " 'rank_duration_10' 'rank_duration_56' 'rank_duration_90' 'capacity'\n",
      " 'rem_epoch' 'rank_duration_50' 'rank_duration_99' 'rank_duration_37'\n",
      " 'rank_duration_35' 'avg_demand' 'rank_duration_69' 'rank_duration_43'\n",
      " 'rank_duration_62' 'rank_duration_92' 'rank_duration_18'\n",
      " 'rank_duration_70' 'demand_left' 'rank_duration_67' 'rank_duration_89'\n",
      " 'rank_duration_7' 'rank_duration_32' 'rank_duration_30'\n",
      " 'rank_duration_29' 'rank_duration_79' 'rank_duration_100'\n",
      " 'rank_duration_28' 'rank_duration_26' 'rank_duration_96'\n",
      " 'rank_duration_64' 'rank_duration_36' 'rank_duration_40'\n",
      " 'rank_duration_58' 'rank_duration_24' 'rank_duration_85'\n",
      " 'rank_duration_4' 'rank_duration_87' 'rank_duration_19'\n",
      " 'total_demand_must_dispatch' 'rank_duration_12' 'rank_duration_14'\n",
      " 'rank_duration_66' 'rank_duration_41' 'rank_duration_55'\n",
      " 'avg_dur_with_must_dispatch' 'rank_duration_23' 'rank_duration_46'\n",
      " 'rank_duration_33' 'rank_duration_9' 'rank_duration_61'\n",
      " 'rank_duration_21' 'rank_duration_97' 'rank_duration_83'\n",
      " 'rank_duration_93' 'rank_duration_20' 'rank_duration_38'\n",
      " 'rank_duration_39' 'rank_duration_52' 'rank_duration_57'\n",
      " 'rank_duration_51' 'rank_duration_6' 'rank_duration_5' 'rank_duration_71'\n",
      " 'rank_duration_95' 'rank_duration_13' 'rank_duration_77'\n",
      " 'rank_duration_44' 'rank_duration_31' 'rank_duration_25'\n",
      " 'rank_duration_65' 'rank_duration_47' 'rank_duration_76'\n",
      " 'rank_duration_27' 'rank_duration_98' 'rank_duration_86'\n",
      " 'rank_duration_68' 'rank_duration_34' 'rank_duration_81'\n",
      " 'rank_duration_94' 'rank_duration_72']\n",
      "======================================================================\n"
     ]
    }
   ],
   "source": [
    "def print_feature(grid):\n",
    "    featureslist = None\n",
    "    selected_features = {}\n",
    "    for name, model in grid.items():\n",
    "        if name != 'logisticregression':\n",
    "            # Select the best pipeline\n",
    "            mmodel = model.best_estimator_\n",
    "            featureslist = np.array(mmodel['mapper'].transformed_names_)\n",
    "            selectedidx = mmodel['rfe'].get_support()\n",
    "            selected_features[name] = featureslist[selectedidx]\n",
    "            print('{} features : '.format(name))\n",
    "            print(selected_features[name])\n",
    "            print('='*70)\n",
    "        else:\n",
    "            # Select the best pipeline\n",
    "            mmodel = model.best_estimator_\n",
    "            featureslist = np.array(mmodel['mapper'].transformed_names_)\n",
    "            # Index of non-zero coefficient features\n",
    "            selectedidx = (mmodel['logisticregression'].coef_ != 0).flatten()\n",
    "            selected_features[name] = featureslist[selectedidx]\n",
    "            print('{} features : '.format(name))\n",
    "            print(selected_features[name])\n",
    "            print('='*70)\n",
    "    return featureslist, selected_features\n",
    "\n",
    "featureslist, selected_features = print_feature(grid)"
   ]
  },
  {
   "cell_type": "code",
   "execution_count": 23,
   "id": "1fcfb71e",
   "metadata": {},
   "outputs": [
    {
     "data": {
      "text/plain": [
       "<AxesSubplot:xlabel='coeff', ylabel='features'>"
      ]
     },
     "execution_count": 23,
     "metadata": {},
     "output_type": "execute_result"
    },
    {
     "data": {
      "image/png": "[encoded data removed]",
      "text/plain": [
       "<Figure size 432x288 with 1 Axes>"
      ]
     },
     "metadata": {
      "needs_background": "light"
     },
     "output_type": "display_data"
    }
   ],
   "source": [
    "best_estimator = mod.best_estimator_['logisticregression']\n",
    "coeff_list = best_estimator.coef_.flatten()\n",
    "\n",
    "dfCoeff = pd.DataFrame({'features':featureslist,\n",
    "                        'coeff':coeff_list,\n",
    "                        'impact':abs(coeff_list)}).sort_values('impact',ascending=False).head(40)\n",
    "\n",
    "sns.barplot(x='coeff',y='features',data=dfCoeff)"
   ]
  },
  {
   "cell_type": "code",
   "execution_count": null,
   "id": "1fdb9263",
   "metadata": {},
   "outputs": [],
   "source": []
  }
 ],
 "metadata": {
  "kernelspec": {
   "display_name": "Python 3.8.8 ('base')",
   "language": "python",
   "name": "python3"
  },
  "language_info": {
   "codemirror_mode": {
    "name": "ipython",
    "version": 3
   },
   "file_extension": ".py",
   "mimetype": "text/x-python",
   "name": "python",
   "nbconvert_exporter": "python",
   "pygments_lexer": "ipython3",
   "version": "3.8.8"
  },
  "vscode": {
   "interpreter": {
    "hash": "f096d5ca39ef996f009f8e2b22f71d228b3d28d4064cc16f68aa702c5cb46cc8"
   }
  }
 },
 "nbformat": 4,
 "nbformat_minor": 5
}
